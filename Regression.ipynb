{
  "nbformat": 4,
  "nbformat_minor": 0,
  "metadata": {
    "colab": {
      "name": "Regression.ipynb",
      "provenance": [],
      "collapsed_sections": []
    },
    "kernelspec": {
      "name": "python3",
      "display_name": "Python 3"
    }
  },
  "cells": [
    {
      "cell_type": "code",
      "metadata": {
        "id": "0lg-ZKNV9g3B",
        "colab_type": "code",
        "colab": {
          "base_uri": "https://localhost:8080/",
          "height": 53
        },
        "outputId": "2ec35628-e0ee-4540-e4fe-eb73609e042e"
      },
      "source": [
        "import numpy as np\n",
        "import matplotlib.pyplot as plt\n",
        "\n",
        "%tensorflow_version 1.x\n",
        "import tensorflow \n",
        "print(tensorflow.__version__)\n",
        "\n",
        "from tensorflow.python.keras import Sequential\n",
        "from tensorflow.python.keras.layers import Dense\n",
        "from tensorflow.python.keras.optimizers import Adam"
      ],
      "execution_count": null,
      "outputs": [
        {
          "output_type": "stream",
          "text": [
            "TensorFlow 1.x selected.\n",
            "1.15.2\n"
          ],
          "name": "stdout"
        }
      ]
    },
    {
      "cell_type": "code",
      "metadata": {
        "id": "Iw6EBZZpEcy0",
        "colab_type": "code",
        "colab": {
          "base_uri": "https://localhost:8080/",
          "height": 283
        },
        "outputId": "d48d1f23-1dfa-462c-c08d-a1a03c402d07"
      },
      "source": [
        "np.random.seed(0)\n",
        "points=500\n",
        "X= np.linspace(-3,3, points)\n",
        "\n",
        "#add some noise ->add variance\n",
        "y= np.sin(X) + np.random.uniform(-0.5, 0.5, points)\n",
        "\n",
        "plt.scatter(X,y)"
      ],
      "execution_count": null,
      "outputs": [
        {
          "output_type": "execute_result",
          "data": {
            "text/plain": [
              "<matplotlib.collections.PathCollection at 0x7fc7abbc5198>"
            ]
          },
          "metadata": {
            "tags": []
          },
          "execution_count": 2
        },
        {
          "output_type": "display_data",
          "data": {
            "image/png": "[encoded data removed]",
            "text/plain": [
              "<Figure size 432x288 with 1 Axes>"
            ]
          },
          "metadata": {
            "tags": []
          }
        }
      ]
    },
    {
      "cell_type": "code",
      "metadata": {
        "id": "YKHWuxjrEvKI",
        "colab_type": "code",
        "colab": {
          "base_uri": "https://localhost:8080/",
          "height": 91
        },
        "outputId": "d299eb13-0402-419e-faa3-39262e2ab4b0"
      },
      "source": [
        "model= Sequential()\n",
        "model.add(Dense(50,activation='sigmoid', input_dim=1))\n",
        "model.add(Dense(30,activation='sigmoid'))\n",
        "model.add(Dense(1))"
      ],
      "execution_count": null,
      "outputs": [
        {
          "output_type": "stream",
          "text": [
            "WARNING:tensorflow:From /tensorflow-1.15.2/python3.6/tensorflow_core/python/ops/resource_variable_ops.py:1630: calling BaseResourceVariable.__init__ (from tensorflow.python.ops.resource_variable_ops) with constraint is deprecated and will be removed in a future version.\n",
            "Instructions for updating:\n",
            "If using Keras pass *_constraint arguments to layers.\n"
          ],
          "name": "stdout"
        }
      ]
    },
    {
      "cell_type": "code",
      "metadata": {
        "id": "PrC12gDaG188",
        "colab_type": "code",
        "colab": {
          "base_uri": "https://localhost:8080/",
          "height": 1000
        },
        "outputId": "6b7c76ed-924e-474b-a5e2-e71cf93081e8"
      },
      "source": [
        "adam=Adam(lr=0.01)\n",
        "model.compile(loss='mse' , optimizer=adam)\n",
        "model.fit(X,y,epochs=50)"
      ],
      "execution_count": null,
      "outputs": [
        {
          "output_type": "stream",
          "text": [
            "Train on 500 samples\n",
            "Epoch 1/50\n",
            "500/500 [==============================] - 0s 340us/sample - loss: 0.1062\n",
            "Epoch 2/50\n",
            "500/500 [==============================] - 0s 43us/sample - loss: 0.1079\n",
            "Epoch 3/50\n",
            "500/500 [==============================] - 0s 49us/sample - loss: 0.1135\n",
            "Epoch 4/50\n",
            "500/500 [==============================] - 0s 51us/sample - loss: 0.1150\n",
            "Epoch 5/50\n",
            "500/500 [==============================] - 0s 41us/sample - loss: 0.1047\n",
            "Epoch 6/50\n",
            "500/500 [==============================] - 0s 40us/sample - loss: 0.0981\n",
            "Epoch 7/50\n",
            "500/500 [==============================] - 0s 43us/sample - loss: 0.0968\n",
            "Epoch 8/50\n",
            "500/500 [==============================] - 0s 41us/sample - loss: 0.0973\n",
            "Epoch 9/50\n",
            "500/500 [==============================] - 0s 41us/sample - loss: 0.1005\n",
            "Epoch 10/50\n",
            "500/500 [==============================] - 0s 41us/sample - loss: 0.1132\n",
            "Epoch 11/50\n",
            "500/500 [==============================] - 0s 42us/sample - loss: 0.1050\n",
            "Epoch 12/50\n",
            "500/500 [==============================] - 0s 43us/sample - loss: 0.1158\n",
            "Epoch 13/50\n",
            "500/500 [==============================] - 0s 42us/sample - loss: 0.1122\n",
            "Epoch 14/50\n",
            "500/500 [==============================] - 0s 43us/sample - loss: 0.1010\n",
            "Epoch 15/50\n",
            "500/500 [==============================] - 0s 41us/sample - loss: 0.0981\n",
            "Epoch 16/50\n",
            "500/500 [==============================] - 0s 42us/sample - loss: 0.1041\n",
            "Epoch 17/50\n",
            "500/500 [==============================] - 0s 41us/sample - loss: 0.1064\n",
            "Epoch 18/50\n",
            "500/500 [==============================] - 0s 42us/sample - loss: 0.1158\n",
            "Epoch 19/50\n",
            "500/500 [==============================] - 0s 42us/sample - loss: 0.1044\n",
            "Epoch 20/50\n",
            "500/500 [==============================] - 0s 44us/sample - loss: 0.0989\n",
            "Epoch 21/50\n",
            "500/500 [==============================] - 0s 46us/sample - loss: 0.0971\n",
            "Epoch 22/50\n",
            "500/500 [==============================] - 0s 41us/sample - loss: 0.0998\n",
            "Epoch 23/50\n",
            "500/500 [==============================] - 0s 46us/sample - loss: 0.0960\n",
            "Epoch 24/50\n",
            "500/500 [==============================] - 0s 43us/sample - loss: 0.0954\n",
            "Epoch 25/50\n",
            "500/500 [==============================] - 0s 45us/sample - loss: 0.0975\n",
            "Epoch 26/50\n",
            "500/500 [==============================] - 0s 49us/sample - loss: 0.0952\n",
            "Epoch 27/50\n",
            "500/500 [==============================] - 0s 43us/sample - loss: 0.0955\n",
            "Epoch 28/50\n",
            "500/500 [==============================] - 0s 40us/sample - loss: 0.1104\n",
            "Epoch 29/50\n",
            "500/500 [==============================] - 0s 41us/sample - loss: 0.1062\n",
            "Epoch 30/50\n",
            "500/500 [==============================] - 0s 40us/sample - loss: 0.1004\n",
            "Epoch 31/50\n",
            "500/500 [==============================] - 0s 46us/sample - loss: 0.0974\n",
            "Epoch 32/50\n",
            "500/500 [==============================] - 0s 41us/sample - loss: 0.0944\n",
            "Epoch 33/50\n",
            "500/500 [==============================] - 0s 39us/sample - loss: 0.0947\n",
            "Epoch 34/50\n",
            "500/500 [==============================] - 0s 42us/sample - loss: 0.0943\n",
            "Epoch 35/50\n",
            "500/500 [==============================] - 0s 42us/sample - loss: 0.0972\n",
            "Epoch 36/50\n",
            "500/500 [==============================] - 0s 41us/sample - loss: 0.0975\n",
            "Epoch 37/50\n",
            "500/500 [==============================] - 0s 54us/sample - loss: 0.1005\n",
            "Epoch 38/50\n",
            "500/500 [==============================] - 0s 41us/sample - loss: 0.0965\n",
            "Epoch 39/50\n",
            "500/500 [==============================] - 0s 42us/sample - loss: 0.0975\n",
            "Epoch 40/50\n",
            "500/500 [==============================] - 0s 39us/sample - loss: 0.0959\n",
            "Epoch 41/50\n",
            "500/500 [==============================] - 0s 43us/sample - loss: 0.0938\n",
            "Epoch 42/50\n",
            "500/500 [==============================] - 0s 43us/sample - loss: 0.0995\n",
            "Epoch 43/50\n",
            "500/500 [==============================] - 0s 44us/sample - loss: 0.0961\n",
            "Epoch 44/50\n",
            "500/500 [==============================] - 0s 43us/sample - loss: 0.0920\n",
            "Epoch 45/50\n",
            "500/500 [==============================] - 0s 43us/sample - loss: 0.0962\n",
            "Epoch 46/50\n",
            "500/500 [==============================] - 0s 43us/sample - loss: 0.1005\n",
            "Epoch 47/50\n",
            "500/500 [==============================] - 0s 49us/sample - loss: 0.0955\n",
            "Epoch 48/50\n",
            "500/500 [==============================] - 0s 40us/sample - loss: 0.0957\n",
            "Epoch 49/50\n",
            "500/500 [==============================] - 0s 41us/sample - loss: 0.0944\n",
            "Epoch 50/50\n",
            "500/500 [==============================] - 0s 43us/sample - loss: 0.0958\n"
          ],
          "name": "stdout"
        },
        {
          "output_type": "execute_result",
          "data": {
            "text/plain": [
              "<tensorflow.python.keras.callbacks.History at 0x7fc7ac64a4e0>"
            ]
          },
          "metadata": {
            "tags": []
          },
          "execution_count": 5
        }
      ]
    },
    {
      "cell_type": "code",
      "metadata": {
        "id": "CLU27t8YJ2gj",
        "colab_type": "code",
        "colab": {
          "base_uri": "https://localhost:8080/",
          "height": 265
        },
        "outputId": "d1713064-80e9-44ee-84f9-ca919e74d84c"
      },
      "source": [
        "prediction =model.predict(X)\n",
        "plt.scatter(X,y)\n",
        "plt.plot(X,prediction, 'ro')\n",
        "plt.show()"
      ],
      "execution_count": null,
      "outputs": [
        {
          "output_type": "display_data",
          "data": {
            "image/png": "[encoded data removed]",
            "text/plain": [
              "<Figure size 432x288 with 1 Axes>"
            ]
          },
          "metadata": {
            "tags": []
          }
        }
      ]
    }
  ]
}